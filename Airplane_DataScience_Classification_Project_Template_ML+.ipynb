{
  "cells": [
    {
      "cell_type": "markdown",
      "metadata": {
        "id": "2ooB3dgw1ckg"
      },
      "source": [
        "<div class=\"alert\" style=\"background-color:#abc; color:white; padding:0px 10px; border-radius:3px;\"><h3 style='margin:10px 10px; font-size:10px'> This work is licensed under the Creative Commons License <a href=\"https://creativecommons.org/licenses/by-sa/4.0/\">CC BY-SA</a>. This can be shared for educational purposes, with due credits to machinelearningplus.com</h3>\n",
        "</div>"
      ]
    },
    {
      "cell_type": "markdown",
      "metadata": {
        "id": "J8Z1G_WG1ckt"
      },
      "source": [
        "<div class=\"alert\" style=\"background-color:#fff; color:white; padding:0px 10px; border-radius:5px;\"><h1 style='margin:15px 15px; color:#006a79; font-size:40px'> Machine Learning Project Template</h1>\n",
        "</div>\n",
        "\n",
        "Just learning the concepts and theory is not sufficient to ace in machine learning. You need to implement the concepts and try to solve more practical problems.\n",
        "\n",
        "In this notebook, you will learn how to implement machine learning. You will be able to kickstart your project using this template."
      ]
    },
    {
      "cell_type": "markdown",
      "metadata": {
        "id": "CGFNuG-w1cku"
      },
      "source": [
        "### Content:\n",
        "1. Load the Data\n",
        "  - Import libraries\n",
        "  - Load the datasets\n",
        "  \n",
        "2. Overview of the Data\n",
        "  - Descriptive Statistics\n",
        "  - Missing Values\n",
        "  \n",
        "3. Exploratory Data Analysis\n",
        "  - Create list of columns by data type\n",
        "  - Check the distribution of target class\n",
        "  - Check the distribution of every feature\n",
        "  - Check how differnt numerical features are realated to target class\n",
        "  \n",
        "4. Data Preparation\n",
        "  - Data Cleaning\n",
        "  - Feature Encoding\n",
        "  - Split X & y\n",
        "  - Feature Scaling\n",
        "  - Train Test split\n",
        "  \n",
        "5. Model Building\n",
        "  - Train Model\n",
        "  - Model Prediction\n",
        "  - Model Evaluation\n",
        "  \n",
        "7. Improve Model\n",
        "  - Handle Class Imbalance\n",
        "  - Hyperparameter Tuning\n",
        "  - Save the Final Model"
      ]
    },
    {
      "cell_type": "markdown",
      "metadata": {
        "id": "YyJbhRRD1ckv"
      },
      "source": [
        "## Inputs\n",
        "\n",
        "The notebook is designed in such a way that you just need to plug in the input values given below and run the code. It will run on it's own and will build the model as well."
      ]
    },
    {
      "cell_type": "markdown",
      "metadata": {
        "id": "v3CAWyIl1cky"
      },
      "source": [
        "<div class=\"alert alert-info\" style=\"background-color:#006a79; color:white; padding:0px 10px; border-radius:5px;\"><h2 style='margin:10px 5px'>1. Load the Data</h2>\n",
        "</div>\n",
        "\n",
        "In this section you will:\n",
        "\n",
        "- Import the libraries\n",
        "- Load the dataset"
      ]
    },
    {
      "cell_type": "markdown",
      "metadata": {
        "id": "VJ87ElRJ1ckz"
      },
      "source": [
        "### 1.1. Import Libraries\n",
        "\n",
        "Import all the libraries in the first cell itself"
      ]
    },
    {
      "cell_type": "code",
      "execution_count": 40,
      "metadata": {
        "id": "PD4FhFf-1ck1"
      },
      "outputs": [],
      "source": [
        "\n",
        "import numpy as np\n",
        "import pandas as pd\n",
        "import matplotlib.pyplot as plt\n",
        "import seaborn as sns\n",
        "from sklearn.model_selection import train_test_split\n",
        "from sklearn.preprocessing import StandardScaler\n",
        "from sklearn.metrics import mean_squared_error\n",
        "from keras.models import Sequential\n",
        "from keras.layers import Dense, LSTM, Dropout\n",
        "from keras.optimizers import Adam\n",
        "import tensorflow as tf\n"
      ]
    },
    {
      "cell_type": "markdown",
      "metadata": {
        "id": "tCmOHLQ71ck2"
      },
      "source": [
        "### 1.2. Load the datasets\n",
        "\n",
        "Load the dataset using pd.read_csv()"
      ]
    },
    {
      "cell_type": "code",
      "execution_count": 5,
      "metadata": {
        "id": "lumwjIQr1ck2",
        "outputId": "d598d481-0049-47b9-a194-4fc63394aefa",
        "colab": {
          "base_uri": "https://localhost:8080/",
          "height": 206
        }
      },
      "outputs": [
        {
          "output_type": "execute_result",
          "data": {
            "text/plain": [
              "     Month  #Passengers\n",
              "0  1949-01          112\n",
              "1  1949-02          118\n",
              "2  1949-03          132\n",
              "3  1949-04          129\n",
              "4  1949-05          121"
            ],
            "text/html": [
              "\n",
              "  <div id=\"df-82414466-71d8-4876-98cd-3be5403a83b6\" class=\"colab-df-container\">\n",
              "    <div>\n",
              "<style scoped>\n",
              "    .dataframe tbody tr th:only-of-type {\n",
              "        vertical-align: middle;\n",
              "    }\n",
              "\n",
              "    .dataframe tbody tr th {\n",
              "        vertical-align: top;\n",
              "    }\n",
              "\n",
              "    .dataframe thead th {\n",
              "        text-align: right;\n",
              "    }\n",
              "</style>\n",
              "<table border=\"1\" class=\"dataframe\">\n",
              "  <thead>\n",
              "    <tr style=\"text-align: right;\">\n",
              "      <th></th>\n",
              "      <th>Month</th>\n",
              "      <th>#Passengers</th>\n",
              "    </tr>\n",
              "  </thead>\n",
              "  <tbody>\n",
              "    <tr>\n",
              "      <th>0</th>\n",
              "      <td>1949-01</td>\n",
              "      <td>112</td>\n",
              "    </tr>\n",
              "    <tr>\n",
              "      <th>1</th>\n",
              "      <td>1949-02</td>\n",
              "      <td>118</td>\n",
              "    </tr>\n",
              "    <tr>\n",
              "      <th>2</th>\n",
              "      <td>1949-03</td>\n",
              "      <td>132</td>\n",
              "    </tr>\n",
              "    <tr>\n",
              "      <th>3</th>\n",
              "      <td>1949-04</td>\n",
              "      <td>129</td>\n",
              "    </tr>\n",
              "    <tr>\n",
              "      <th>4</th>\n",
              "      <td>1949-05</td>\n",
              "      <td>121</td>\n",
              "    </tr>\n",
              "  </tbody>\n",
              "</table>\n",
              "</div>\n",
              "    <div class=\"colab-df-buttons\">\n",
              "\n",
              "  <div class=\"colab-df-container\">\n",
              "    <button class=\"colab-df-convert\" onclick=\"convertToInteractive('df-82414466-71d8-4876-98cd-3be5403a83b6')\"\n",
              "            title=\"Convert this dataframe to an interactive table.\"\n",
              "            style=\"display:none;\">\n",
              "\n",
              "  <svg xmlns=\"http://www.w3.org/2000/svg\" height=\"24px\" viewBox=\"0 -960 960 960\">\n",
              "    <path d=\"M120-120v-720h720v720H120Zm60-500h600v-160H180v160Zm220 220h160v-160H400v160Zm0 220h160v-160H400v160ZM180-400h160v-160H180v160Zm440 0h160v-160H620v160ZM180-180h160v-160H180v160Zm440 0h160v-160H620v160Z\"/>\n",
              "  </svg>\n",
              "    </button>\n",
              "\n",
              "  <style>\n",
              "    .colab-df-container {\n",
              "      display:flex;\n",
              "      gap: 12px;\n",
              "    }\n",
              "\n",
              "    .colab-df-convert {\n",
              "      background-color: #E8F0FE;\n",
              "      border: none;\n",
              "      border-radius: 50%;\n",
              "      cursor: pointer;\n",
              "      display: none;\n",
              "      fill: #1967D2;\n",
              "      height: 32px;\n",
              "      padding: 0 0 0 0;\n",
              "      width: 32px;\n",
              "    }\n",
              "\n",
              "    .colab-df-convert:hover {\n",
              "      background-color: #E2EBFA;\n",
              "      box-shadow: 0px 1px 2px rgba(60, 64, 67, 0.3), 0px 1px 3px 1px rgba(60, 64, 67, 0.15);\n",
              "      fill: #174EA6;\n",
              "    }\n",
              "\n",
              "    .colab-df-buttons div {\n",
              "      margin-bottom: 4px;\n",
              "    }\n",
              "\n",
              "    [theme=dark] .colab-df-convert {\n",
              "      background-color: #3B4455;\n",
              "      fill: #D2E3FC;\n",
              "    }\n",
              "\n",
              "    [theme=dark] .colab-df-convert:hover {\n",
              "      background-color: #434B5C;\n",
              "      box-shadow: 0px 1px 3px 1px rgba(0, 0, 0, 0.15);\n",
              "      filter: drop-shadow(0px 1px 2px rgba(0, 0, 0, 0.3));\n",
              "      fill: #FFFFFF;\n",
              "    }\n",
              "  </style>\n",
              "\n",
              "    <script>\n",
              "      const buttonEl =\n",
              "        document.querySelector('#df-82414466-71d8-4876-98cd-3be5403a83b6 button.colab-df-convert');\n",
              "      buttonEl.style.display =\n",
              "        google.colab.kernel.accessAllowed ? 'block' : 'none';\n",
              "\n",
              "      async function convertToInteractive(key) {\n",
              "        const element = document.querySelector('#df-82414466-71d8-4876-98cd-3be5403a83b6');\n",
              "        const dataTable =\n",
              "          await google.colab.kernel.invokeFunction('convertToInteractive',\n",
              "                                                    [key], {});\n",
              "        if (!dataTable) return;\n",
              "\n",
              "        const docLinkHtml = 'Like what you see? Visit the ' +\n",
              "          '<a target=\"_blank\" href=https://colab.research.google.com/notebooks/data_table.ipynb>data table notebook</a>'\n",
              "          + ' to learn more about interactive tables.';\n",
              "        element.innerHTML = '';\n",
              "        dataTable['output_type'] = 'display_data';\n",
              "        await google.colab.output.renderOutput(dataTable, element);\n",
              "        const docLink = document.createElement('div');\n",
              "        docLink.innerHTML = docLinkHtml;\n",
              "        element.appendChild(docLink);\n",
              "      }\n",
              "    </script>\n",
              "  </div>\n",
              "\n",
              "\n",
              "<div id=\"df-99433ec4-cba8-4f54-920f-acc69ba92e41\">\n",
              "  <button class=\"colab-df-quickchart\" onclick=\"quickchart('df-99433ec4-cba8-4f54-920f-acc69ba92e41')\"\n",
              "            title=\"Suggest charts\"\n",
              "            style=\"display:none;\">\n",
              "\n",
              "<svg xmlns=\"http://www.w3.org/2000/svg\" height=\"24px\"viewBox=\"0 0 24 24\"\n",
              "     width=\"24px\">\n",
              "    <g>\n",
              "        <path d=\"M19 3H5c-1.1 0-2 .9-2 2v14c0 1.1.9 2 2 2h14c1.1 0 2-.9 2-2V5c0-1.1-.9-2-2-2zM9 17H7v-7h2v7zm4 0h-2V7h2v10zm4 0h-2v-4h2v4z\"/>\n",
              "    </g>\n",
              "</svg>\n",
              "  </button>\n",
              "\n",
              "<style>\n",
              "  .colab-df-quickchart {\n",
              "      --bg-color: #E8F0FE;\n",
              "      --fill-color: #1967D2;\n",
              "      --hover-bg-color: #E2EBFA;\n",
              "      --hover-fill-color: #174EA6;\n",
              "      --disabled-fill-color: #AAA;\n",
              "      --disabled-bg-color: #DDD;\n",
              "  }\n",
              "\n",
              "  [theme=dark] .colab-df-quickchart {\n",
              "      --bg-color: #3B4455;\n",
              "      --fill-color: #D2E3FC;\n",
              "      --hover-bg-color: #434B5C;\n",
              "      --hover-fill-color: #FFFFFF;\n",
              "      --disabled-bg-color: #3B4455;\n",
              "      --disabled-fill-color: #666;\n",
              "  }\n",
              "\n",
              "  .colab-df-quickchart {\n",
              "    background-color: var(--bg-color);\n",
              "    border: none;\n",
              "    border-radius: 50%;\n",
              "    cursor: pointer;\n",
              "    display: none;\n",
              "    fill: var(--fill-color);\n",
              "    height: 32px;\n",
              "    padding: 0;\n",
              "    width: 32px;\n",
              "  }\n",
              "\n",
              "  .colab-df-quickchart:hover {\n",
              "    background-color: var(--hover-bg-color);\n",
              "    box-shadow: 0 1px 2px rgba(60, 64, 67, 0.3), 0 1px 3px 1px rgba(60, 64, 67, 0.15);\n",
              "    fill: var(--button-hover-fill-color);\n",
              "  }\n",
              "\n",
              "  .colab-df-quickchart-complete:disabled,\n",
              "  .colab-df-quickchart-complete:disabled:hover {\n",
              "    background-color: var(--disabled-bg-color);\n",
              "    fill: var(--disabled-fill-color);\n",
              "    box-shadow: none;\n",
              "  }\n",
              "\n",
              "  .colab-df-spinner {\n",
              "    border: 2px solid var(--fill-color);\n",
              "    border-color: transparent;\n",
              "    border-bottom-color: var(--fill-color);\n",
              "    animation:\n",
              "      spin 1s steps(1) infinite;\n",
              "  }\n",
              "\n",
              "  @keyframes spin {\n",
              "    0% {\n",
              "      border-color: transparent;\n",
              "      border-bottom-color: var(--fill-color);\n",
              "      border-left-color: var(--fill-color);\n",
              "    }\n",
              "    20% {\n",
              "      border-color: transparent;\n",
              "      border-left-color: var(--fill-color);\n",
              "      border-top-color: var(--fill-color);\n",
              "    }\n",
              "    30% {\n",
              "      border-color: transparent;\n",
              "      border-left-color: var(--fill-color);\n",
              "      border-top-color: var(--fill-color);\n",
              "      border-right-color: var(--fill-color);\n",
              "    }\n",
              "    40% {\n",
              "      border-color: transparent;\n",
              "      border-right-color: var(--fill-color);\n",
              "      border-top-color: var(--fill-color);\n",
              "    }\n",
              "    60% {\n",
              "      border-color: transparent;\n",
              "      border-right-color: var(--fill-color);\n",
              "    }\n",
              "    80% {\n",
              "      border-color: transparent;\n",
              "      border-right-color: var(--fill-color);\n",
              "      border-bottom-color: var(--fill-color);\n",
              "    }\n",
              "    90% {\n",
              "      border-color: transparent;\n",
              "      border-bottom-color: var(--fill-color);\n",
              "    }\n",
              "  }\n",
              "</style>\n",
              "\n",
              "  <script>\n",
              "    async function quickchart(key) {\n",
              "      const quickchartButtonEl =\n",
              "        document.querySelector('#' + key + ' button');\n",
              "      quickchartButtonEl.disabled = true;  // To prevent multiple clicks.\n",
              "      quickchartButtonEl.classList.add('colab-df-spinner');\n",
              "      try {\n",
              "        const charts = await google.colab.kernel.invokeFunction(\n",
              "            'suggestCharts', [key], {});\n",
              "      } catch (error) {\n",
              "        console.error('Error during call to suggestCharts:', error);\n",
              "      }\n",
              "      quickchartButtonEl.classList.remove('colab-df-spinner');\n",
              "      quickchartButtonEl.classList.add('colab-df-quickchart-complete');\n",
              "    }\n",
              "    (() => {\n",
              "      let quickchartButtonEl =\n",
              "        document.querySelector('#df-99433ec4-cba8-4f54-920f-acc69ba92e41 button');\n",
              "      quickchartButtonEl.style.display =\n",
              "        google.colab.kernel.accessAllowed ? 'block' : 'none';\n",
              "    })();\n",
              "  </script>\n",
              "</div>\n",
              "    </div>\n",
              "  </div>\n"
            ],
            "application/vnd.google.colaboratory.intrinsic+json": {
              "type": "dataframe",
              "variable_name": "data",
              "summary": "{\n  \"name\": \"data\",\n  \"rows\": 144,\n  \"fields\": [\n    {\n      \"column\": \"Month\",\n      \"properties\": {\n        \"dtype\": \"object\",\n        \"num_unique_values\": 144,\n        \"samples\": [\n          \"1958-10\",\n          \"1950-08\",\n          \"1955-11\"\n        ],\n        \"semantic_type\": \"\",\n        \"description\": \"\"\n      }\n    },\n    {\n      \"column\": \"#Passengers\",\n      \"properties\": {\n        \"dtype\": \"number\",\n        \"std\": 119,\n        \"min\": 104,\n        \"max\": 622,\n        \"num_unique_values\": 118,\n        \"samples\": [\n          293,\n          340,\n          121\n        ],\n        \"semantic_type\": \"\",\n        \"description\": \"\"\n      }\n    }\n  ]\n}"
            }
          },
          "metadata": {},
          "execution_count": 5
        }
      ],
      "source": [
        "data = pd.read_csv('/content/AirPassengers.csv')\n",
        "data.head()"
      ]
    },
    {
      "cell_type": "markdown",
      "metadata": {
        "id": "pjR4bzK81ck4"
      },
      "source": [
        "<div class=\"alert alert-info\" style=\"background-color:#006a79; color:white; padding:0px 10px; border-radius:5px;\"><h2 style='margin:10px 5px'>2. Overview of the Data</h2>\n",
        "</div>\n",
        "\n",
        "Before attempting to solve the problem, it's very important to have a good understanding of data.\n",
        "\n",
        "In this section you will:\n",
        "- Get the descriptive statistics of the data\n",
        "- Get the information about missing values in the data"
      ]
    },
    {
      "cell_type": "markdown",
      "metadata": {
        "id": "wo4eKaKC1ck6"
      },
      "source": [
        "### 2.1. Descriptive Statistics\n",
        "\n",
        "As the name says descriptive statistics describes the data. It gives you information about\n",
        "- Mean, median, mode\n",
        "- Min, max\n",
        "- Count etc\n",
        "\n",
        "Let's understand the data we have"
      ]
    },
    {
      "cell_type": "code",
      "execution_count": 6,
      "metadata": {
        "id": "GMMPfvip1ck6",
        "outputId": "1a748af5-bcd5-4aee-b61f-a555b5a2885b",
        "colab": {
          "base_uri": "https://localhost:8080/"
        }
      },
      "outputs": [
        {
          "output_type": "execute_result",
          "data": {
            "text/plain": [
              "(144, 2)"
            ]
          },
          "metadata": {},
          "execution_count": 6
        }
      ],
      "source": [
        "# Dimension of the data\n",
        "data.shape"
      ]
    },
    {
      "cell_type": "code",
      "execution_count": 7,
      "metadata": {
        "id": "wmkTixmK1ck7",
        "outputId": "be0e82ad-12c1-42ae-da24-74b6c837e1a2",
        "colab": {
          "base_uri": "https://localhost:8080/"
        }
      },
      "outputs": [
        {
          "output_type": "stream",
          "name": "stdout",
          "text": [
            "       #Passengers\n",
            "count   144.000000\n",
            "mean    280.298611\n",
            "std     119.966317\n",
            "min     104.000000\n",
            "25%     180.000000\n",
            "50%     265.500000\n",
            "75%     360.500000\n",
            "max     622.000000\n"
          ]
        }
      ],
      "source": [
        "print(data.describe())\n"
      ]
    },
    {
      "cell_type": "markdown",
      "metadata": {
        "id": "94IXReO41ck7"
      },
      "source": [
        "### 2.2 Missing Values\n",
        "\n",
        "Get the info about missing values in the dataframe"
      ]
    },
    {
      "cell_type": "code",
      "execution_count": 8,
      "metadata": {
        "id": "NJZXuzoI1ck8",
        "outputId": "7cf5fd3e-4173-4f23-afdf-13d793f1f49d",
        "colab": {
          "base_uri": "https://localhost:8080/"
        }
      },
      "outputs": [
        {
          "output_type": "stream",
          "name": "stdout",
          "text": [
            "Month          0\n",
            "#Passengers    0\n",
            "dtype: int64\n"
          ]
        }
      ],
      "source": [
        "print(data.isnull().sum())\n"
      ]
    },
    {
      "cell_type": "markdown",
      "metadata": {
        "id": "pACniI3O1ck8"
      },
      "source": [
        "<div class=\"alert alert-info\" style=\"background-color:#006a79; color:white; padding:0px 10px; border-radius:5px;\"><h2 style='margin:10px 5px'>3. Exploratory Data Analaysis</h2>\n",
        "</div>\n",
        "\n",
        "Exploratory data analysis is an approach to analyze or investigate data sets to find out patterns and see if any of the variables can be useful in predicting the y variables. Visual methods are often used to summarise the data. Primarily EDA is for seeing what the data can tell us beyond the formal modeling or hypothesis testing tasks.\n",
        "\n",
        "In this section you will:\n",
        "- Create list of columns by data type\n",
        "- Check the distribution of target class\n",
        "- Check the distribution of every feature\n",
        "- Check how differnt numerical features are realated to target class"
      ]
    },
    {
      "cell_type": "markdown",
      "metadata": {
        "id": "PPHiLUyB1ck-"
      },
      "source": [
        "### 3.1. Extract data types of columns\n",
        "\n",
        "It's better to get the list of columns by data types in the start itself. You won't have to manually write the name of columns while performing certain operations. So always get the list of columns in the start itself."
      ]
    },
    {
      "cell_type": "code",
      "execution_count": 11,
      "metadata": {
        "id": "lecSDx5M1ck-"
      },
      "outputs": [],
      "source": [
        "np.object = object\n",
        "\n",
        "numerical_features = data.select_dtypes(include=[np.number]).columns.tolist()\n",
        "categorical_features = data.select_dtypes(include=[np.object]).columns.tolist()\n"
      ]
    },
    {
      "cell_type": "markdown",
      "metadata": {
        "id": "YYH1hu_h1ck_"
      },
      "source": [
        "**Note :** There might be some mismatch in the data type of the columns, so in such cases you will have to correct it manually"
      ]
    },
    {
      "cell_type": "markdown",
      "metadata": {
        "id": "lRfP28Sz1ck_"
      },
      "source": [
        "### 3.2 Check distribution of target class\n",
        "\n",
        "You need to check the distribution of target class, see how many categories are there, is it balanced or not"
      ]
    },
    {
      "cell_type": "code",
      "execution_count": 21,
      "metadata": {
        "id": "1KD3nXSq1ck_",
        "outputId": "baf1959e-d75b-4953-edbe-f89f043c8b8f",
        "colab": {
          "base_uri": "https://localhost:8080/",
          "height": 564
        }
      },
      "outputs": [
        {
          "output_type": "display_data",
          "data": {
            "text/plain": [
              "<Figure size 1000x600 with 1 Axes>"
            ],
            "image/png": "[encoded data removed]"
          },
          "metadata": {}
        }
      ],
      "source": [
        "plt.figure(figsize=(10, 6))\n",
        "sns.histplot(data['#Passengers'])\n",
        "plt.title('Distribution of Number of Passengers')\n",
        "plt.xlabel('Number of Passengers')\n",
        "plt.ylabel('Frequency')\n",
        "plt.show()\n",
        "\n"
      ]
    },
    {
      "cell_type": "markdown",
      "metadata": {
        "id": "uVVSO8vM1ck_"
      },
      "source": [
        "### 3.3. Check the distribution of every feature"
      ]
    },
    {
      "cell_type": "code",
      "execution_count": 22,
      "metadata": {
        "id": "GA3hL7ho1clA",
        "outputId": "c56eb3b7-81bb-40f9-d3bb-58e38f1b0046",
        "colab": {
          "base_uri": "https://localhost:8080/",
          "height": 564
        }
      },
      "outputs": [
        {
          "output_type": "display_data",
          "data": {
            "text/plain": [
              "<Figure size 1000x600 with 1 Axes>"
            ],
            "image/png": "[encoded data removed]"
          },
          "metadata": {}
        }
      ],
      "source": [
        "for feature in numerical_features:\n",
        "    plt.figure(figsize=(10, 6))\n",
        "    sns.histplot(data[feature])\n",
        "    plt.title(f'Distribution of {feature}')\n",
        "    plt.xlabel(feature)\n",
        "    plt.ylabel('Frequency')\n",
        "    plt.show()\n"
      ]
    },
    {
      "cell_type": "markdown",
      "metadata": {
        "id": "K9GS53kt1clB"
      },
      "source": [
        "### 3.4 Check how differnt numerical features are realated to target class"
      ]
    },
    {
      "cell_type": "code",
      "execution_count": 23,
      "metadata": {
        "id": "I8pS1M651clB"
      },
      "outputs": [],
      "source": [
        "for feature in numerical_features:\n",
        "    if feature != '#Passengers':  # Assuming 'Passengers' is the target column\n",
        "        plt.figure(figsize=(10, 6))\n",
        "        sns.scatterplot(data[feature], data['#Passengers'])\n",
        "        plt.title(f'{feature} vs Passengers')\n",
        "        plt.xlabel(feature)\n",
        "        plt.ylabel('Number of Passengers')\n",
        "        plt.show()\n",
        "\n"
      ]
    },
    {
      "cell_type": "markdown",
      "metadata": {
        "id": "Jqjpx_rM1clC"
      },
      "source": [
        "<div class=\"alert alert-info\" style=\"background-color:#006a79; color:white; padding:0px 10px; border-radius:5px;\"><h2 style='margin:10px 5px'>4. Data Preparation</h2>\n",
        "</div>\n",
        "\n",
        "The data is not yet ready for model building. You need to process the data and make it ready for model building\n",
        "\n",
        "In this section you will:\n",
        "- Clean the data\n",
        "- Encode the categorical features\n",
        "- Split the dataset in X and y dataset\n",
        "- Scale the features\n",
        "- Split the data in train and test set"
      ]
    },
    {
      "cell_type": "markdown",
      "metadata": {
        "id": "tq-6stRW1clC"
      },
      "source": [
        "### 4.1. Data Cleaning\n",
        "\n",
        "Machine Learning works on the idea of garbage in - garbage out. If you feed in dirty data, the results won't be good. Hence it's very important to clean the data before training the model.\n",
        "\n",
        "**Sklearn algorithms need missing value imputation but XGBoost, LightGBM etc does not require missing value imputation**\n",
        "\n",
        "There are various ways to handle missing values. Some of the ways are:\n",
        "- Drop the rows with missing values\n",
        "- Impute the missing values with mean, median, mode, most frequent category, unknown category etc\n",
        "\n",
        "Here you can decide how you want to handle the missing data"
      ]
    },
    {
      "cell_type": "code",
      "execution_count": 24,
      "metadata": {
        "id": "HD4yYFX41clC"
      },
      "outputs": [],
      "source": [
        "data = data.dropna()\n"
      ]
    },
    {
      "cell_type": "code",
      "execution_count": 25,
      "metadata": {
        "id": "rk3oNTHW1clD",
        "outputId": "45ccaf65-a289-42c2-ae74-2edea7cefdae",
        "colab": {
          "base_uri": "https://localhost:8080/",
          "height": 206
        }
      },
      "outputs": [
        {
          "output_type": "execute_result",
          "data": {
            "text/plain": [
              "     Month  #Passengers\n",
              "0  1949-01          112\n",
              "1  1949-02          118\n",
              "2  1949-03          132\n",
              "3  1949-04          129\n",
              "4  1949-05          121"
            ],
            "text/html": [
              "\n",
              "  <div id=\"df-f219084e-735f-481a-9dfe-2bf374910f67\" class=\"colab-df-container\">\n",
              "    <div>\n",
              "<style scoped>\n",
              "    .dataframe tbody tr th:only-of-type {\n",
              "        vertical-align: middle;\n",
              "    }\n",
              "\n",
              "    .dataframe tbody tr th {\n",
              "        vertical-align: top;\n",
              "    }\n",
              "\n",
              "    .dataframe thead th {\n",
              "        text-align: right;\n",
              "    }\n",
              "</style>\n",
              "<table border=\"1\" class=\"dataframe\">\n",
              "  <thead>\n",
              "    <tr style=\"text-align: right;\">\n",
              "      <th></th>\n",
              "      <th>Month</th>\n",
              "      <th>#Passengers</th>\n",
              "    </tr>\n",
              "  </thead>\n",
              "  <tbody>\n",
              "    <tr>\n",
              "      <th>0</th>\n",
              "      <td>1949-01</td>\n",
              "      <td>112</td>\n",
              "    </tr>\n",
              "    <tr>\n",
              "      <th>1</th>\n",
              "      <td>1949-02</td>\n",
              "      <td>118</td>\n",
              "    </tr>\n",
              "    <tr>\n",
              "      <th>2</th>\n",
              "      <td>1949-03</td>\n",
              "      <td>132</td>\n",
              "    </tr>\n",
              "    <tr>\n",
              "      <th>3</th>\n",
              "      <td>1949-04</td>\n",
              "      <td>129</td>\n",
              "    </tr>\n",
              "    <tr>\n",
              "      <th>4</th>\n",
              "      <td>1949-05</td>\n",
              "      <td>121</td>\n",
              "    </tr>\n",
              "  </tbody>\n",
              "</table>\n",
              "</div>\n",
              "    <div class=\"colab-df-buttons\">\n",
              "\n",
              "  <div class=\"colab-df-container\">\n",
              "    <button class=\"colab-df-convert\" onclick=\"convertToInteractive('df-f219084e-735f-481a-9dfe-2bf374910f67')\"\n",
              "            title=\"Convert this dataframe to an interactive table.\"\n",
              "            style=\"display:none;\">\n",
              "\n",
              "  <svg xmlns=\"http://www.w3.org/2000/svg\" height=\"24px\" viewBox=\"0 -960 960 960\">\n",
              "    <path d=\"M120-120v-720h720v720H120Zm60-500h600v-160H180v160Zm220 220h160v-160H400v160Zm0 220h160v-160H400v160ZM180-400h160v-160H180v160Zm440 0h160v-160H620v160ZM180-180h160v-160H180v160Zm440 0h160v-160H620v160Z\"/>\n",
              "  </svg>\n",
              "    </button>\n",
              "\n",
              "  <style>\n",
              "    .colab-df-container {\n",
              "      display:flex;\n",
              "      gap: 12px;\n",
              "    }\n",
              "\n",
              "    .colab-df-convert {\n",
              "      background-color: #E8F0FE;\n",
              "      border: none;\n",
              "      border-radius: 50%;\n",
              "      cursor: pointer;\n",
              "      display: none;\n",
              "      fill: #1967D2;\n",
              "      height: 32px;\n",
              "      padding: 0 0 0 0;\n",
              "      width: 32px;\n",
              "    }\n",
              "\n",
              "    .colab-df-convert:hover {\n",
              "      background-color: #E2EBFA;\n",
              "      box-shadow: 0px 1px 2px rgba(60, 64, 67, 0.3), 0px 1px 3px 1px rgba(60, 64, 67, 0.15);\n",
              "      fill: #174EA6;\n",
              "    }\n",
              "\n",
              "    .colab-df-buttons div {\n",
              "      margin-bottom: 4px;\n",
              "    }\n",
              "\n",
              "    [theme=dark] .colab-df-convert {\n",
              "      background-color: #3B4455;\n",
              "      fill: #D2E3FC;\n",
              "    }\n",
              "\n",
              "    [theme=dark] .colab-df-convert:hover {\n",
              "      background-color: #434B5C;\n",
              "      box-shadow: 0px 1px 3px 1px rgba(0, 0, 0, 0.15);\n",
              "      filter: drop-shadow(0px 1px 2px rgba(0, 0, 0, 0.3));\n",
              "      fill: #FFFFFF;\n",
              "    }\n",
              "  </style>\n",
              "\n",
              "    <script>\n",
              "      const buttonEl =\n",
              "        document.querySelector('#df-f219084e-735f-481a-9dfe-2bf374910f67 button.colab-df-convert');\n",
              "      buttonEl.style.display =\n",
              "        google.colab.kernel.accessAllowed ? 'block' : 'none';\n",
              "\n",
              "      async function convertToInteractive(key) {\n",
              "        const element = document.querySelector('#df-f219084e-735f-481a-9dfe-2bf374910f67');\n",
              "        const dataTable =\n",
              "          await google.colab.kernel.invokeFunction('convertToInteractive',\n",
              "                                                    [key], {});\n",
              "        if (!dataTable) return;\n",
              "\n",
              "        const docLinkHtml = 'Like what you see? Visit the ' +\n",
              "          '<a target=\"_blank\" href=https://colab.research.google.com/notebooks/data_table.ipynb>data table notebook</a>'\n",
              "          + ' to learn more about interactive tables.';\n",
              "        element.innerHTML = '';\n",
              "        dataTable['output_type'] = 'display_data';\n",
              "        await google.colab.output.renderOutput(dataTable, element);\n",
              "        const docLink = document.createElement('div');\n",
              "        docLink.innerHTML = docLinkHtml;\n",
              "        element.appendChild(docLink);\n",
              "      }\n",
              "    </script>\n",
              "  </div>\n",
              "\n",
              "\n",
              "<div id=\"df-bd19f59c-6005-4154-842f-9739b766f598\">\n",
              "  <button class=\"colab-df-quickchart\" onclick=\"quickchart('df-bd19f59c-6005-4154-842f-9739b766f598')\"\n",
              "            title=\"Suggest charts\"\n",
              "            style=\"display:none;\">\n",
              "\n",
              "<svg xmlns=\"http://www.w3.org/2000/svg\" height=\"24px\"viewBox=\"0 0 24 24\"\n",
              "     width=\"24px\">\n",
              "    <g>\n",
              "        <path d=\"M19 3H5c-1.1 0-2 .9-2 2v14c0 1.1.9 2 2 2h14c1.1 0 2-.9 2-2V5c0-1.1-.9-2-2-2zM9 17H7v-7h2v7zm4 0h-2V7h2v10zm4 0h-2v-4h2v4z\"/>\n",
              "    </g>\n",
              "</svg>\n",
              "  </button>\n",
              "\n",
              "<style>\n",
              "  .colab-df-quickchart {\n",
              "      --bg-color: #E8F0FE;\n",
              "      --fill-color: #1967D2;\n",
              "      --hover-bg-color: #E2EBFA;\n",
              "      --hover-fill-color: #174EA6;\n",
              "      --disabled-fill-color: #AAA;\n",
              "      --disabled-bg-color: #DDD;\n",
              "  }\n",
              "\n",
              "  [theme=dark] .colab-df-quickchart {\n",
              "      --bg-color: #3B4455;\n",
              "      --fill-color: #D2E3FC;\n",
              "      --hover-bg-color: #434B5C;\n",
              "      --hover-fill-color: #FFFFFF;\n",
              "      --disabled-bg-color: #3B4455;\n",
              "      --disabled-fill-color: #666;\n",
              "  }\n",
              "\n",
              "  .colab-df-quickchart {\n",
              "    background-color: var(--bg-color);\n",
              "    border: none;\n",
              "    border-radius: 50%;\n",
              "    cursor: pointer;\n",
              "    display: none;\n",
              "    fill: var(--fill-color);\n",
              "    height: 32px;\n",
              "    padding: 0;\n",
              "    width: 32px;\n",
              "  }\n",
              "\n",
              "  .colab-df-quickchart:hover {\n",
              "    background-color: var(--hover-bg-color);\n",
              "    box-shadow: 0 1px 2px rgba(60, 64, 67, 0.3), 0 1px 3px 1px rgba(60, 64, 67, 0.15);\n",
              "    fill: var(--button-hover-fill-color);\n",
              "  }\n",
              "\n",
              "  .colab-df-quickchart-complete:disabled,\n",
              "  .colab-df-quickchart-complete:disabled:hover {\n",
              "    background-color: var(--disabled-bg-color);\n",
              "    fill: var(--disabled-fill-color);\n",
              "    box-shadow: none;\n",
              "  }\n",
              "\n",
              "  .colab-df-spinner {\n",
              "    border: 2px solid var(--fill-color);\n",
              "    border-color: transparent;\n",
              "    border-bottom-color: var(--fill-color);\n",
              "    animation:\n",
              "      spin 1s steps(1) infinite;\n",
              "  }\n",
              "\n",
              "  @keyframes spin {\n",
              "    0% {\n",
              "      border-color: transparent;\n",
              "      border-bottom-color: var(--fill-color);\n",
              "      border-left-color: var(--fill-color);\n",
              "    }\n",
              "    20% {\n",
              "      border-color: transparent;\n",
              "      border-left-color: var(--fill-color);\n",
              "      border-top-color: var(--fill-color);\n",
              "    }\n",
              "    30% {\n",
              "      border-color: transparent;\n",
              "      border-left-color: var(--fill-color);\n",
              "      border-top-color: var(--fill-color);\n",
              "      border-right-color: var(--fill-color);\n",
              "    }\n",
              "    40% {\n",
              "      border-color: transparent;\n",
              "      border-right-color: var(--fill-color);\n",
              "      border-top-color: var(--fill-color);\n",
              "    }\n",
              "    60% {\n",
              "      border-color: transparent;\n",
              "      border-right-color: var(--fill-color);\n",
              "    }\n",
              "    80% {\n",
              "      border-color: transparent;\n",
              "      border-right-color: var(--fill-color);\n",
              "      border-bottom-color: var(--fill-color);\n",
              "    }\n",
              "    90% {\n",
              "      border-color: transparent;\n",
              "      border-bottom-color: var(--fill-color);\n",
              "    }\n",
              "  }\n",
              "</style>\n",
              "\n",
              "  <script>\n",
              "    async function quickchart(key) {\n",
              "      const quickchartButtonEl =\n",
              "        document.querySelector('#' + key + ' button');\n",
              "      quickchartButtonEl.disabled = true;  // To prevent multiple clicks.\n",
              "      quickchartButtonEl.classList.add('colab-df-spinner');\n",
              "      try {\n",
              "        const charts = await google.colab.kernel.invokeFunction(\n",
              "            'suggestCharts', [key], {});\n",
              "      } catch (error) {\n",
              "        console.error('Error during call to suggestCharts:', error);\n",
              "      }\n",
              "      quickchartButtonEl.classList.remove('colab-df-spinner');\n",
              "      quickchartButtonEl.classList.add('colab-df-quickchart-complete');\n",
              "    }\n",
              "    (() => {\n",
              "      let quickchartButtonEl =\n",
              "        document.querySelector('#df-bd19f59c-6005-4154-842f-9739b766f598 button');\n",
              "      quickchartButtonEl.style.display =\n",
              "        google.colab.kernel.accessAllowed ? 'block' : 'none';\n",
              "    })();\n",
              "  </script>\n",
              "</div>\n",
              "    </div>\n",
              "  </div>\n"
            ],
            "application/vnd.google.colaboratory.intrinsic+json": {
              "type": "dataframe",
              "variable_name": "data",
              "summary": "{\n  \"name\": \"data\",\n  \"rows\": 144,\n  \"fields\": [\n    {\n      \"column\": \"Month\",\n      \"properties\": {\n        \"dtype\": \"object\",\n        \"num_unique_values\": 144,\n        \"samples\": [\n          \"1958-10\",\n          \"1950-08\",\n          \"1955-11\"\n        ],\n        \"semantic_type\": \"\",\n        \"description\": \"\"\n      }\n    },\n    {\n      \"column\": \"#Passengers\",\n      \"properties\": {\n        \"dtype\": \"number\",\n        \"std\": 119,\n        \"min\": 104,\n        \"max\": 622,\n        \"num_unique_values\": 118,\n        \"samples\": [\n          293,\n          340,\n          121\n        ],\n        \"semantic_type\": \"\",\n        \"description\": \"\"\n      }\n    }\n  ]\n}"
            }
          },
          "metadata": {},
          "execution_count": 25
        }
      ],
      "source": [
        "data.head()"
      ]
    },
    {
      "cell_type": "markdown",
      "metadata": {
        "id": "4Nsi92yV1clF"
      },
      "source": [
        "### 4.2. Feature Encoding\n",
        "\n",
        "Encoding is the process of converting data from one form to another. Most of the Machine learning algorithms can not handle categorical values unless we convert them to numerical values. Many algorithm’s performances vary based on how Categorical columns are encoded.\n",
        "\n",
        "There are lot of ways in which you can encode the categorical variables. Some of those are:\n",
        "- Label Encoding\n",
        "- One Hot Encoding\n",
        "- Ordinal Encoding\n",
        "- Frequency Encoding"
      ]
    },
    {
      "cell_type": "code",
      "execution_count": 27,
      "metadata": {
        "id": "LIRga8ZR1clF"
      },
      "outputs": [],
      "source": [
        "if 'Month' in data.columns:\n",
        "    data = pd.get_dummies(data, columns=['Month'], drop_first=True)\n"
      ]
    },
    {
      "cell_type": "markdown",
      "metadata": {
        "id": "mRyvhiGh1clG"
      },
      "source": [
        "### 4.3. Split X and y\n",
        "\n",
        "Split the X and y dataset"
      ]
    },
    {
      "cell_type": "code",
      "execution_count": 29,
      "metadata": {
        "id": "kZ4jnIEK1clG"
      },
      "outputs": [],
      "source": [
        "X = data.drop('#Passengers', axis=1)  # Assuming 'Passengers' is the target column\n",
        "y = data['#Passengers']\n"
      ]
    },
    {
      "cell_type": "markdown",
      "metadata": {
        "id": "wYN9nye71clH"
      },
      "source": [
        "### 4.4. Feature Scaling\n",
        "\n",
        "It is a technique to standardize the x variables (features) present in the data in a fixed range. It needs to be done before training the model.\n",
        "\n",
        "But if you are using tree based models, you should not go for feature scaling"
      ]
    },
    {
      "cell_type": "code",
      "execution_count": 30,
      "metadata": {
        "id": "qCleFg0h1clH"
      },
      "outputs": [],
      "source": [
        "from sklearn.preprocessing import StandardScaler\n",
        "\n",
        "scaler = StandardScaler()\n",
        "X_scaled = scaler.fit_transform(X)\n"
      ]
    },
    {
      "cell_type": "markdown",
      "metadata": {
        "id": "UKghxo_m1clI"
      },
      "source": [
        "### 4.5 Train - Test Split\n",
        "\n",
        "Split the dataset in training and test set"
      ]
    },
    {
      "cell_type": "code",
      "execution_count": 32,
      "metadata": {
        "id": "cM3t3msJ1clI"
      },
      "outputs": [],
      "source": [
        "from sklearn.model_selection import train_test_split\n",
        "\n",
        "X_train, X_test, y_train, y_test = train_test_split(X_scaled, y, test_size=0.2, random_state=42)\n"
      ]
    },
    {
      "cell_type": "markdown",
      "metadata": {
        "id": "qfQmUgFl1clI"
      },
      "source": [
        "<div class=\"alert alert-info\" style=\"background-color:#006a79; color:white; padding:0px 10px; border-radius:5px;\"><h2 style='margin:10px 5px'>5. Model Building</h2>\n",
        "</div>\n",
        "\n",
        "In this section you will:\n",
        "- Train the model on training data\n",
        "- Get the predictions on testing data\n",
        "- Evaluate the performance of model on testing data"
      ]
    },
    {
      "cell_type": "markdown",
      "metadata": {
        "id": "Kbx4cYhM1clJ"
      },
      "source": [
        "### 5.1 Train Model\n",
        "\n",
        "Train the model on training data"
      ]
    },
    {
      "cell_type": "code",
      "execution_count": 33,
      "metadata": {
        "id": "trdzmhy81clJ",
        "colab": {
          "base_uri": "https://localhost:8080/"
        },
        "outputId": "ab80db6e-31bf-4ebf-9c47-d18435a2ee48"
      },
      "outputs": [
        {
          "output_type": "stream",
          "name": "stdout",
          "text": [
            "Epoch 1/50\n",
            "4/4 [==============================] - 8s 225ms/step - loss: 96194.2344\n",
            "Epoch 2/50\n",
            "4/4 [==============================] - 1s 154ms/step - loss: 96133.0938\n",
            "Epoch 3/50\n",
            "4/4 [==============================] - 1s 141ms/step - loss: 96007.7188\n",
            "Epoch 4/50\n",
            "4/4 [==============================] - 1s 127ms/step - loss: 95607.1484\n",
            "Epoch 5/50\n",
            "4/4 [==============================] - 1s 125ms/step - loss: 94433.5859\n",
            "Epoch 6/50\n",
            "4/4 [==============================] - 0s 117ms/step - loss: 93267.0234\n",
            "Epoch 7/50\n",
            "4/4 [==============================] - 1s 151ms/step - loss: 92596.3594\n",
            "Epoch 8/50\n",
            "4/4 [==============================] - 1s 288ms/step - loss: 92058.1641\n",
            "Epoch 9/50\n",
            "4/4 [==============================] - 1s 260ms/step - loss: 91483.1875\n",
            "Epoch 10/50\n",
            "4/4 [==============================] - 1s 326ms/step - loss: 90964.8516\n",
            "Epoch 11/50\n",
            "4/4 [==============================] - 1s 347ms/step - loss: 90654.5312\n",
            "Epoch 12/50\n",
            "4/4 [==============================] - 1s 228ms/step - loss: 90280.1797\n",
            "Epoch 13/50\n",
            "4/4 [==============================] - 1s 233ms/step - loss: 89944.7812\n",
            "Epoch 14/50\n",
            "4/4 [==============================] - 1s 293ms/step - loss: 89782.1641\n",
            "Epoch 15/50\n",
            "4/4 [==============================] - 2s 412ms/step - loss: 89636.4844\n",
            "Epoch 16/50\n",
            "4/4 [==============================] - 2s 529ms/step - loss: 89497.5312\n",
            "Epoch 17/50\n",
            "4/4 [==============================] - 2s 363ms/step - loss: 89323.9766\n",
            "Epoch 18/50\n",
            "4/4 [==============================] - 1s 123ms/step - loss: 89082.3906\n",
            "Epoch 19/50\n",
            "4/4 [==============================] - 1s 133ms/step - loss: 88944.8359\n",
            "Epoch 20/50\n",
            "4/4 [==============================] - 1s 127ms/step - loss: 88828.0859\n",
            "Epoch 21/50\n",
            "4/4 [==============================] - 1s 127ms/step - loss: 88718.4375\n",
            "Epoch 22/50\n",
            "4/4 [==============================] - 1s 136ms/step - loss: 88634.8516\n",
            "Epoch 23/50\n",
            "4/4 [==============================] - 0s 121ms/step - loss: 88434.0547\n",
            "Epoch 24/50\n",
            "4/4 [==============================] - 0s 123ms/step - loss: 88201.7812\n",
            "Epoch 25/50\n",
            "4/4 [==============================] - 1s 136ms/step - loss: 88182.3047\n",
            "Epoch 26/50\n",
            "4/4 [==============================] - 1s 132ms/step - loss: 87989.9844\n",
            "Epoch 27/50\n",
            "4/4 [==============================] - 1s 128ms/step - loss: 87872.1406\n",
            "Epoch 28/50\n",
            "4/4 [==============================] - 1s 132ms/step - loss: 87845.2344\n",
            "Epoch 29/50\n",
            "4/4 [==============================] - 1s 126ms/step - loss: 87692.6094\n",
            "Epoch 30/50\n",
            "4/4 [==============================] - 1s 143ms/step - loss: 87471.4141\n",
            "Epoch 31/50\n",
            "4/4 [==============================] - 1s 129ms/step - loss: 87453.1016\n",
            "Epoch 32/50\n",
            "4/4 [==============================] - 1s 141ms/step - loss: 87239.2188\n",
            "Epoch 33/50\n",
            "4/4 [==============================] - 1s 123ms/step - loss: 87086.1641\n",
            "Epoch 34/50\n",
            "4/4 [==============================] - 1s 130ms/step - loss: 86986.1797\n",
            "Epoch 35/50\n",
            "4/4 [==============================] - 1s 159ms/step - loss: 87022.6250\n",
            "Epoch 36/50\n",
            "4/4 [==============================] - 1s 196ms/step - loss: 86858.6953\n",
            "Epoch 37/50\n",
            "4/4 [==============================] - 1s 220ms/step - loss: 86602.1250\n",
            "Epoch 38/50\n",
            "4/4 [==============================] - 1s 225ms/step - loss: 86498.4766\n",
            "Epoch 39/50\n",
            "4/4 [==============================] - 1s 224ms/step - loss: 86408.1328\n",
            "Epoch 40/50\n",
            "4/4 [==============================] - 1s 220ms/step - loss: 86347.5859\n",
            "Epoch 41/50\n",
            "4/4 [==============================] - 1s 144ms/step - loss: 86393.4297\n",
            "Epoch 42/50\n",
            "4/4 [==============================] - 1s 125ms/step - loss: 86218.6016\n",
            "Epoch 43/50\n",
            "4/4 [==============================] - 1s 129ms/step - loss: 85976.9062\n",
            "Epoch 44/50\n",
            "4/4 [==============================] - 1s 129ms/step - loss: 85950.5859\n",
            "Epoch 45/50\n",
            "4/4 [==============================] - 1s 128ms/step - loss: 85942.5078\n",
            "Epoch 46/50\n",
            "4/4 [==============================] - 1s 127ms/step - loss: 85620.7812\n",
            "Epoch 47/50\n",
            "4/4 [==============================] - 1s 129ms/step - loss: 85554.0703\n",
            "Epoch 48/50\n",
            "4/4 [==============================] - 0s 120ms/step - loss: 85501.0156\n",
            "Epoch 49/50\n",
            "4/4 [==============================] - 1s 128ms/step - loss: 85267.6094\n",
            "Epoch 50/50\n",
            "4/4 [==============================] - 1s 123ms/step - loss: 85141.0625\n"
          ]
        },
        {
          "output_type": "execute_result",
          "data": {
            "text/plain": [
              "<keras.src.callbacks.History at 0x7989e6f72ce0>"
            ]
          },
          "metadata": {},
          "execution_count": 33
        }
      ],
      "source": [
        "from keras.models import Sequential\n",
        "from keras.layers import Dense, LSTM, Dropout\n",
        "from keras.optimizers import Adam\n",
        "\n",
        "model = Sequential()\n",
        "model.add(LSTM(units=50, return_sequences=True, input_shape=(X_train.shape[1], 1)))\n",
        "model.add(Dropout(0.2))\n",
        "model.add(LSTM(units=50, return_sequences=False))\n",
        "model.add(Dropout(0.2))\n",
        "model.add(Dense(units=1))\n",
        "\n",
        "model.compile(optimizer=Adam(learning_rate=0.001), loss='mean_squared_error')\n",
        "model.fit(X_train, y_train, epochs=50, batch_size=32)\n"
      ]
    },
    {
      "cell_type": "code",
      "execution_count": 34,
      "metadata": {
        "id": "tXFkYolX1clJ",
        "outputId": "db80cfe4-f330-4014-8a5a-f8d31d50b245",
        "colab": {
          "base_uri": "https://localhost:8080/"
        }
      },
      "outputs": [
        {
          "output_type": "stream",
          "name": "stdout",
          "text": [
            "4/4 [==============================] - 1s 136ms/step - loss: 85001.2188\n"
          ]
        },
        {
          "output_type": "execute_result",
          "data": {
            "text/plain": [
              "<keras.src.engine.sequential.Sequential at 0x7989ea3ee9b0>"
            ]
          },
          "metadata": {},
          "execution_count": 34
        }
      ],
      "source": [
        "# Training the model:\n",
        "model.fit(X_train, y_train)\n",
        "\n",
        "model"
      ]
    },
    {
      "cell_type": "markdown",
      "metadata": {
        "id": "vKCDvCYm1clK"
      },
      "source": [
        "### 5.2 Model Predictions\n",
        "\n",
        "Get the predictions from the model on testing data"
      ]
    },
    {
      "cell_type": "code",
      "execution_count": 35,
      "metadata": {
        "id": "l1E0r9Bl1clK",
        "outputId": "0abb4d46-e0ee-4210-a3d4-58e8be61e82c",
        "colab": {
          "base_uri": "https://localhost:8080/"
        }
      },
      "outputs": [
        {
          "output_type": "stream",
          "name": "stdout",
          "text": [
            "1/1 [==============================] - 3s 3s/step\n"
          ]
        }
      ],
      "source": [
        "predictions = model.predict(X_test)\n"
      ]
    },
    {
      "cell_type": "markdown",
      "metadata": {
        "id": "ienxU6i81clL"
      },
      "source": [
        "### 5.3. Model Evaluation\n",
        "\n",
        "Get the evaluation metrics to evaluate the performance of model on testing data"
      ]
    },
    {
      "cell_type": "code",
      "execution_count": 36,
      "metadata": {
        "id": "XWSjspaM1clM",
        "colab": {
          "base_uri": "https://localhost:8080/"
        },
        "outputId": "f4326e86-4028-4a53-c5cb-4d1eabe25b50"
      },
      "outputs": [
        {
          "output_type": "stream",
          "name": "stdout",
          "text": [
            "Mean Squared Error: 69140.00096687757\n"
          ]
        }
      ],
      "source": [
        "from sklearn.metrics import mean_squared_error\n",
        "\n",
        "mse = mean_squared_error(y_test, predictions)\n",
        "print(f'Mean Squared Error: {mse}')\n"
      ]
    },
    {
      "cell_type": "markdown",
      "metadata": {
        "id": "GJWToBtX1clM"
      },
      "source": [
        "<div class=\"alert alert-info\" style=\"background-color:#006a79; color:white; padding:0px 10px; border-radius:5px;\"><h2 style='margin:10px 5px'>6. Improve Model</h2>\n",
        "</div>\n",
        "\n",
        "The first model you make may not be a good one. You need to improve the model.\n",
        "\n",
        "In majority of the classification problems, the target class is imbalanced. So you need to balance it in order to get best modelling results.\n",
        "\n",
        "In this section you will:\n",
        "- Handle class imbalance\n",
        "- Save the final model"
      ]
    },
    {
      "cell_type": "markdown",
      "metadata": {
        "id": "TCrNj5G31clR"
      },
      "source": [
        "### 6.3. Save the final model\n",
        "\n",
        "You can save the model in local disk and use it whenever you want"
      ]
    },
    {
      "cell_type": "code",
      "execution_count": 39,
      "metadata": {
        "id": "vvdyX-FI1clR",
        "colab": {
          "base_uri": "https://localhost:8080/"
        },
        "outputId": "5bee436d-f6c3-4f95-ee75-b416e33ec50d"
      },
      "outputs": [
        {
          "output_type": "stream",
          "name": "stderr",
          "text": [
            "/usr/local/lib/python3.10/dist-packages/keras/src/engine/training.py:3103: UserWarning: You are saving your model as an HDF5 file via `model.save()`. This file format is considered legacy. We recommend using instead the native Keras format, e.g. `model.save('my_model.keras')`.\n",
            "  saving_api.save_model(\n"
          ]
        }
      ],
      "source": [
        "model.save('final_model.h5')\n"
      ]
    },
    {
      "cell_type": "markdown",
      "metadata": {
        "id": "-Iv8qaJd1clR"
      },
      "source": [
        "<div class=\"alert\" style=\"background-color:#abc; color:white; padding:0px 10px; border-radius:3px;\"><h3 style='margin:10px 10px; font-size:10px'> This work is licensed under the Creative Commons License <a href=\"https://creativecommons.org/licenses/by-sa/4.0/\">CC BY-SA</a>. This can be shared for educational purposes, with due credits to machinelearningplus.com</h3>\n",
        "</div>"
      ]
    }
  ],
  "metadata": {
    "colab": {
      "provenance": []
    },
    "hide_input": false,
    "kernelspec": {
      "display_name": "Python 3",
      "language": "python",
      "name": "python3"
    },
    "language_info": {
      "codemirror_mode": {
        "name": "ipython",
        "version": 3
      },
      "file_extension": ".py",
      "mimetype": "text/x-python",
      "name": "python",
      "nbconvert_exporter": "python",
      "pygments_lexer": "ipython3",
      "version": "3.7.1"
    },
    "toc": {
      "base_numbering": 1,
      "nav_menu": {},
      "number_sections": false,
      "sideBar": true,
      "skip_h1_title": false,
      "title_cell": "Table of Contents",
      "title_sidebar": "Contents",
      "toc_cell": false,
      "toc_position": {},
      "toc_section_display": true,
      "toc_window_display": true
    },
    "varInspector": {
      "cols": {
        "lenName": 16,
        "lenType": 16,
        "lenVar": 40
      },
      "kernels_config": {
        "python": {
          "delete_cmd_postfix": "",
          "delete_cmd_prefix": "del ",
          "library": "var_list.py",
          "varRefreshCmd": "print(var_dic_list())"
        },
        "r": {
          "delete_cmd_postfix": ") ",
          "delete_cmd_prefix": "rm(",
          "library": "var_list.r",
          "varRefreshCmd": "cat(var_dic_list()) "
        }
      },
      "types_to_exclude": [
        "module",
        "function",
        "builtin_function_or_method",
        "instance",
        "_Feature"
      ],
      "window_display": false
    }
  },
  "nbformat": 4,
  "nbformat_minor": 0
}